{
 "cells": [
  {
   "cell_type": "code",
   "execution_count": null,
   "metadata": {},
   "outputs": [],
   "source": [
    "from my_module import np, h5py, os, plt\n",
    "\n",
    "\n",
    "WORKING_DIR = \"/u/sciteam/smzyz/scratch/results/MOD_training/_500X500\"\n",
    "\n",
    "inum = 100\n",
    "cloudy_file = \"cloudy_batch_{}.h5\".format(inum)\n",
    "clear_file = \"batch_{}.h5\".format(inum)\n",
    "\n",
    "with h5py.File(os.path.join(WORKING_DIR, clear_file), 'r') as h5f:\n",
    "    data_all = h5f['X'][:]"
   ]
  },
  {
   "cell_type": "code",
   "execution_count": null,
   "metadata": {},
   "outputs": [],
   "source": [
    "\n",
    "data = np.rollaxis(data_all[100, :, :, [0, 3, 2]]/300., 0, 3)\n",
    "plt.imshow(data)\n",
    "plt.show()\n"
   ]
  },
  {
   "cell_type": "markdown",
   "metadata": {},
   "source": [
    "# 2018.05.10\n",
    "\n",
    "Test MOD35 downloader"
   ]
  },
  {
   "cell_type": "code",
   "execution_count": null,
   "metadata": {},
   "outputs": [],
   "source": [
    "from my_module import np, os, tqdm, sys\n",
    "import csv\n",
    "import shutil\n",
    "import ssl\n",
    "import urllib2\n",
    "# import mpi4py.MPI as MPI\n",
    "\n",
    "\n",
    "\n",
    "USERAGENT = 'tis/download.py_1.0--' + sys.version.replace('\\n','').replace('\\r','')\n",
    "\n",
    "\n",
    "def url_retrieve(src, dst):\n",
    "    \"\"\"\n",
    "    Return 0 if an error occur otherwise Return 1.\n",
    "    \"\"\"\n",
    "    \n",
    "    url = src\n",
    "    headers = { 'user-agent' : USERAGENT }\n",
    "    headers['Authorization'] = 'Bearer ' + \"59451810-53C9-11E8-9F28-C61EAE849760\"\n",
    "    CTX = ssl.SSLContext(ssl.PROTOCOL_TLSv1_2)\n",
    "    \n",
    "    try:\n",
    "        fh = urllib2.urlopen(urllib2.Request(url, headers=headers), context=CTX)\n",
    "        shutil.copyfileobj(fh, dst)\n",
    "    except urllib2.HTTPError as e:\n",
    "        print '>> HTTPError: {}'.format(url)\n",
    "    except urllib2.URLError as e:\n",
    "        print '>> URLError: {}'.format(url)\n"
   ]
  },
  {
   "cell_type": "code",
   "execution_count": 94,
   "metadata": {
    "scrolled": true
   },
   "outputs": [
    {
     "name": "stdout",
     "output_type": "stream",
     "text": [
      ">> log: /u/sciteam/smzyz/scratch/data/MODIS/MOD35/2000/054\n",
      ">> HTTPError: https://ladsweb.modaps.eosdis.nasa.gov/archive/allData/61/MOD35_L2/2000/054.csv\n",
      ">> log: /u/sciteam/smzyz/scratch/data/MODIS/MOD35/2000/055\n",
      ">> log: /u/sciteam/smzyz/scratch/data/MODIS/MOD35/2000/056\n",
      ">> log: /u/sciteam/smzyz/scratch/data/MODIS/MOD35/2000/057\n",
      ">> log: /u/sciteam/smzyz/scratch/data/MODIS/MOD35/2000/058\n",
      ">> log: /u/sciteam/smzyz/scratch/data/MODIS/MOD35/2000/059\n",
      ">> log: /u/sciteam/smzyz/scratch/data/MODIS/MOD35/2000/060\n",
      ">> log: /u/sciteam/smzyz/scratch/data/MODIS/MOD35/2000/061\n",
      ">> log: /u/sciteam/smzyz/scratch/data/MODIS/MOD35/2000/062\n",
      ">> log: /u/sciteam/smzyz/scratch/data/MODIS/MOD35/2000/063\n",
      ">> log: /u/sciteam/smzyz/scratch/data/MODIS/MOD35/2000/064\n",
      ">> log: /u/sciteam/smzyz/scratch/data/MODIS/MOD35/2000/065\n",
      ">> log: /u/sciteam/smzyz/scratch/data/MODIS/MOD35/2000/066\n",
      ">> log: /u/sciteam/smzyz/scratch/data/MODIS/MOD35/2000/067\n",
      ">> log: /u/sciteam/smzyz/scratch/data/MODIS/MOD35/2000/068\n",
      ">> log: /u/sciteam/smzyz/scratch/data/MODIS/MOD35/2000/069\n",
      ">> log: /u/sciteam/smzyz/scratch/data/MODIS/MOD35/2000/070\n",
      ">> log: /u/sciteam/smzyz/scratch/data/MODIS/MOD35/2000/071\n",
      ">> log: /u/sciteam/smzyz/scratch/data/MODIS/MOD35/2000/072\n",
      ">> log: /u/sciteam/smzyz/scratch/data/MODIS/MOD35/2000/073\n",
      ">> log: /u/sciteam/smzyz/scratch/data/MODIS/MOD35/2000/074\n",
      ">> log: /u/sciteam/smzyz/scratch/data/MODIS/MOD35/2000/075\n",
      ">> log: /u/sciteam/smzyz/scratch/data/MODIS/MOD35/2000/076\n",
      ">> log: /u/sciteam/smzyz/scratch/data/MODIS/MOD35/2000/077\n",
      ">> log: /u/sciteam/smzyz/scratch/data/MODIS/MOD35/2000/078\n",
      ">> log: /u/sciteam/smzyz/scratch/data/MODIS/MOD35/2000/079\n",
      ">> log: /u/sciteam/smzyz/scratch/data/MODIS/MOD35/2000/080\n",
      ">> log: /u/sciteam/smzyz/scratch/data/MODIS/MOD35/2000/081\n",
      ">> log: /u/sciteam/smzyz/scratch/data/MODIS/MOD35/2000/082\n",
      ">> log: /u/sciteam/smzyz/scratch/data/MODIS/MOD35/2000/083\n",
      ">> log: /u/sciteam/smzyz/scratch/data/MODIS/MOD35/2000/084\n",
      ">> log: /u/sciteam/smzyz/scratch/data/MODIS/MOD35/2000/085\n",
      ">> log: /u/sciteam/smzyz/scratch/data/MODIS/MOD35/2000/086\n",
      ">> log: /u/sciteam/smzyz/scratch/data/MODIS/MOD35/2000/087\n",
      ">> log: /u/sciteam/smzyz/scratch/data/MODIS/MOD35/2000/088\n",
      ">> log: /u/sciteam/smzyz/scratch/data/MODIS/MOD35/2000/089\n",
      ">> log: /u/sciteam/smzyz/scratch/data/MODIS/MOD35/2000/090\n",
      ">> log: /u/sciteam/smzyz/scratch/data/MODIS/MOD35/2000/091\n",
      ">> log: /u/sciteam/smzyz/scratch/data/MODIS/MOD35/2000/092\n",
      ">> log: /u/sciteam/smzyz/scratch/data/MODIS/MOD35/2000/093\n",
      ">> log: /u/sciteam/smzyz/scratch/data/MODIS/MOD35/2000/094\n",
      ">> log: /u/sciteam/smzyz/scratch/data/MODIS/MOD35/2000/095\n",
      ">> log: /u/sciteam/smzyz/scratch/data/MODIS/MOD35/2000/096\n",
      ">> log: /u/sciteam/smzyz/scratch/data/MODIS/MOD35/2000/097\n",
      ">> log: /u/sciteam/smzyz/scratch/data/MODIS/MOD35/2000/098\n",
      ">> log: /u/sciteam/smzyz/scratch/data/MODIS/MOD35/2000/099\n",
      ">> log: /u/sciteam/smzyz/scratch/data/MODIS/MOD35/2000/100\n",
      ">> log: /u/sciteam/smzyz/scratch/data/MODIS/MOD35/2000/101\n",
      ">> log: /u/sciteam/smzyz/scratch/data/MODIS/MOD35/2000/102\n",
      ">> log: /u/sciteam/smzyz/scratch/data/MODIS/MOD35/2000/103\n",
      ">> log: /u/sciteam/smzyz/scratch/data/MODIS/MOD35/2000/104\n",
      ">> log: /u/sciteam/smzyz/scratch/data/MODIS/MOD35/2000/105\n",
      ">> log: /u/sciteam/smzyz/scratch/data/MODIS/MOD35/2000/106\n",
      ">> log: /u/sciteam/smzyz/scratch/data/MODIS/MOD35/2000/107\n",
      ">> log: /u/sciteam/smzyz/scratch/data/MODIS/MOD35/2000/108\n",
      ">> log: /u/sciteam/smzyz/scratch/data/MODIS/MOD35/2000/109\n"
     ]
    },
    {
     "ename": "KeyboardInterrupt",
     "evalue": "",
     "output_type": "error",
     "traceback": [
      "\u001b[0;31m---------------------------------------------------------------------------\u001b[0m",
      "\u001b[0;31mKeyboardInterrupt\u001b[0m                         Traceback (most recent call last)",
      "\u001b[0;32m<ipython-input-94-16df2d50ebe5>\u001b[0m in \u001b[0;36m<module>\u001b[0;34m()\u001b[0m\n\u001b[1;32m     51\u001b[0m \u001b[0;34m\u001b[0m\u001b[0m\n\u001b[1;32m     52\u001b[0m \u001b[0;32mfor\u001b[0m \u001b[0miday\u001b[0m \u001b[0;32min\u001b[0m \u001b[0mrange\u001b[0m\u001b[0;34m(\u001b[0m\u001b[0;36m54\u001b[0m\u001b[0;34m,\u001b[0m \u001b[0;36m367\u001b[0m\u001b[0;34m)\u001b[0m\u001b[0;34m:\u001b[0m\u001b[0;34m\u001b[0m\u001b[0m\n\u001b[0;32m---> 53\u001b[0;31m     \u001b[0mmain\u001b[0m\u001b[0;34m(\u001b[0m\u001b[0;36m2000\u001b[0m\u001b[0;34m,\u001b[0m \u001b[0miday\u001b[0m\u001b[0;34m)\u001b[0m\u001b[0;34m\u001b[0m\u001b[0m\n\u001b[0m",
      "\u001b[0;32m<ipython-input-94-16df2d50ebe5>\u001b[0m in \u001b[0;36mmain\u001b[0;34m(iyr, iday)\u001b[0m\n\u001b[1;32m     24\u001b[0m     \u001b[0mdst_csv_file\u001b[0m \u001b[0;34m=\u001b[0m \u001b[0;34m\"{}/{}.csv\"\u001b[0m\u001b[0;34m.\u001b[0m\u001b[0mformat\u001b[0m\u001b[0;34m(\u001b[0m\u001b[0mdst_parent_folder\u001b[0m\u001b[0;34m,\u001b[0m \u001b[0miday\u001b[0m\u001b[0;34m)\u001b[0m\u001b[0;34m\u001b[0m\u001b[0m\n\u001b[1;32m     25\u001b[0m     \u001b[0;32mwith\u001b[0m \u001b[0mopen\u001b[0m\u001b[0;34m(\u001b[0m\u001b[0mdst_csv_file\u001b[0m\u001b[0;34m,\u001b[0m \u001b[0;34m'w+b'\u001b[0m\u001b[0;34m)\u001b[0m \u001b[0;32mas\u001b[0m \u001b[0mout\u001b[0m\u001b[0;34m:\u001b[0m\u001b[0;34m\u001b[0m\u001b[0m\n\u001b[0;32m---> 26\u001b[0;31m         \u001b[0murl_retrieve\u001b[0m\u001b[0;34m(\u001b[0m\u001b[0msrc_csv_file\u001b[0m\u001b[0;34m,\u001b[0m \u001b[0mout\u001b[0m\u001b[0;34m)\u001b[0m\u001b[0;34m\u001b[0m\u001b[0m\n\u001b[0m\u001b[1;32m     27\u001b[0m \u001b[0;34m\u001b[0m\u001b[0m\n\u001b[1;32m     28\u001b[0m \u001b[0;34m\u001b[0m\u001b[0m\n",
      "\u001b[0;32m<ipython-input-43-9e845ad200f4>\u001b[0m in \u001b[0;36murl_retrieve\u001b[0;34m(src, dst)\u001b[0m\n\u001b[1;32m     18\u001b[0m \u001b[0;34m\u001b[0m\u001b[0m\n\u001b[1;32m     19\u001b[0m     \u001b[0;32mtry\u001b[0m\u001b[0;34m:\u001b[0m\u001b[0;34m\u001b[0m\u001b[0m\n\u001b[0;32m---> 20\u001b[0;31m         \u001b[0mfh\u001b[0m \u001b[0;34m=\u001b[0m \u001b[0murllib2\u001b[0m\u001b[0;34m.\u001b[0m\u001b[0murlopen\u001b[0m\u001b[0;34m(\u001b[0m\u001b[0murllib2\u001b[0m\u001b[0;34m.\u001b[0m\u001b[0mRequest\u001b[0m\u001b[0;34m(\u001b[0m\u001b[0murl\u001b[0m\u001b[0;34m,\u001b[0m \u001b[0mheaders\u001b[0m\u001b[0;34m=\u001b[0m\u001b[0mheaders\u001b[0m\u001b[0;34m)\u001b[0m\u001b[0;34m,\u001b[0m \u001b[0mcontext\u001b[0m\u001b[0;34m=\u001b[0m\u001b[0mCTX\u001b[0m\u001b[0;34m)\u001b[0m\u001b[0;34m\u001b[0m\u001b[0m\n\u001b[0m\u001b[1;32m     21\u001b[0m         \u001b[0mshutil\u001b[0m\u001b[0;34m.\u001b[0m\u001b[0mcopyfileobj\u001b[0m\u001b[0;34m(\u001b[0m\u001b[0mfh\u001b[0m\u001b[0;34m,\u001b[0m \u001b[0mdst\u001b[0m\u001b[0;34m)\u001b[0m\u001b[0;34m\u001b[0m\u001b[0m\n\u001b[1;32m     22\u001b[0m     \u001b[0;32mexcept\u001b[0m \u001b[0murllib2\u001b[0m\u001b[0;34m.\u001b[0m\u001b[0mHTTPError\u001b[0m \u001b[0;32mas\u001b[0m \u001b[0me\u001b[0m\u001b[0;34m:\u001b[0m\u001b[0;34m\u001b[0m\u001b[0m\n",
      "\u001b[0;32m/mnt/bwpy/single/usr/lib/python2.7/urllib2.pyc\u001b[0m in \u001b[0;36murlopen\u001b[0;34m(url, data, timeout, cafile, capath, cadefault, context)\u001b[0m\n\u001b[1;32m    152\u001b[0m     \u001b[0;32melse\u001b[0m\u001b[0;34m:\u001b[0m\u001b[0;34m\u001b[0m\u001b[0m\n\u001b[1;32m    153\u001b[0m         \u001b[0mopener\u001b[0m \u001b[0;34m=\u001b[0m \u001b[0m_opener\u001b[0m\u001b[0;34m\u001b[0m\u001b[0m\n\u001b[0;32m--> 154\u001b[0;31m     \u001b[0;32mreturn\u001b[0m \u001b[0mopener\u001b[0m\u001b[0;34m.\u001b[0m\u001b[0mopen\u001b[0m\u001b[0;34m(\u001b[0m\u001b[0murl\u001b[0m\u001b[0;34m,\u001b[0m \u001b[0mdata\u001b[0m\u001b[0;34m,\u001b[0m \u001b[0mtimeout\u001b[0m\u001b[0;34m)\u001b[0m\u001b[0;34m\u001b[0m\u001b[0m\n\u001b[0m\u001b[1;32m    155\u001b[0m \u001b[0;34m\u001b[0m\u001b[0m\n\u001b[1;32m    156\u001b[0m \u001b[0;32mdef\u001b[0m \u001b[0minstall_opener\u001b[0m\u001b[0;34m(\u001b[0m\u001b[0mopener\u001b[0m\u001b[0;34m)\u001b[0m\u001b[0;34m:\u001b[0m\u001b[0;34m\u001b[0m\u001b[0m\n",
      "\u001b[0;32m/mnt/bwpy/single/usr/lib/python2.7/urllib2.pyc\u001b[0m in \u001b[0;36mopen\u001b[0;34m(self, fullurl, data, timeout)\u001b[0m\n\u001b[1;32m    427\u001b[0m             \u001b[0mreq\u001b[0m \u001b[0;34m=\u001b[0m \u001b[0mmeth\u001b[0m\u001b[0;34m(\u001b[0m\u001b[0mreq\u001b[0m\u001b[0;34m)\u001b[0m\u001b[0;34m\u001b[0m\u001b[0m\n\u001b[1;32m    428\u001b[0m \u001b[0;34m\u001b[0m\u001b[0m\n\u001b[0;32m--> 429\u001b[0;31m         \u001b[0mresponse\u001b[0m \u001b[0;34m=\u001b[0m \u001b[0mself\u001b[0m\u001b[0;34m.\u001b[0m\u001b[0m_open\u001b[0m\u001b[0;34m(\u001b[0m\u001b[0mreq\u001b[0m\u001b[0;34m,\u001b[0m \u001b[0mdata\u001b[0m\u001b[0;34m)\u001b[0m\u001b[0;34m\u001b[0m\u001b[0m\n\u001b[0m\u001b[1;32m    430\u001b[0m \u001b[0;34m\u001b[0m\u001b[0m\n\u001b[1;32m    431\u001b[0m         \u001b[0;31m# post-process response\u001b[0m\u001b[0;34m\u001b[0m\u001b[0;34m\u001b[0m\u001b[0m\n",
      "\u001b[0;32m/mnt/bwpy/single/usr/lib/python2.7/urllib2.pyc\u001b[0m in \u001b[0;36m_open\u001b[0;34m(self, req, data)\u001b[0m\n\u001b[1;32m    445\u001b[0m         \u001b[0mprotocol\u001b[0m \u001b[0;34m=\u001b[0m \u001b[0mreq\u001b[0m\u001b[0;34m.\u001b[0m\u001b[0mget_type\u001b[0m\u001b[0;34m(\u001b[0m\u001b[0;34m)\u001b[0m\u001b[0;34m\u001b[0m\u001b[0m\n\u001b[1;32m    446\u001b[0m         result = self._call_chain(self.handle_open, protocol, protocol +\n\u001b[0;32m--> 447\u001b[0;31m                                   '_open', req)\n\u001b[0m\u001b[1;32m    448\u001b[0m         \u001b[0;32mif\u001b[0m \u001b[0mresult\u001b[0m\u001b[0;34m:\u001b[0m\u001b[0;34m\u001b[0m\u001b[0m\n\u001b[1;32m    449\u001b[0m             \u001b[0;32mreturn\u001b[0m \u001b[0mresult\u001b[0m\u001b[0;34m\u001b[0m\u001b[0m\n",
      "\u001b[0;32m/mnt/bwpy/single/usr/lib/python2.7/urllib2.pyc\u001b[0m in \u001b[0;36m_call_chain\u001b[0;34m(self, chain, kind, meth_name, *args)\u001b[0m\n\u001b[1;32m    405\u001b[0m             \u001b[0mfunc\u001b[0m \u001b[0;34m=\u001b[0m \u001b[0mgetattr\u001b[0m\u001b[0;34m(\u001b[0m\u001b[0mhandler\u001b[0m\u001b[0;34m,\u001b[0m \u001b[0mmeth_name\u001b[0m\u001b[0;34m)\u001b[0m\u001b[0;34m\u001b[0m\u001b[0m\n\u001b[1;32m    406\u001b[0m \u001b[0;34m\u001b[0m\u001b[0m\n\u001b[0;32m--> 407\u001b[0;31m             \u001b[0mresult\u001b[0m \u001b[0;34m=\u001b[0m \u001b[0mfunc\u001b[0m\u001b[0;34m(\u001b[0m\u001b[0;34m*\u001b[0m\u001b[0margs\u001b[0m\u001b[0;34m)\u001b[0m\u001b[0;34m\u001b[0m\u001b[0m\n\u001b[0m\u001b[1;32m    408\u001b[0m             \u001b[0;32mif\u001b[0m \u001b[0mresult\u001b[0m \u001b[0;32mis\u001b[0m \u001b[0;32mnot\u001b[0m \u001b[0mNone\u001b[0m\u001b[0;34m:\u001b[0m\u001b[0;34m\u001b[0m\u001b[0m\n\u001b[1;32m    409\u001b[0m                 \u001b[0;32mreturn\u001b[0m \u001b[0mresult\u001b[0m\u001b[0;34m\u001b[0m\u001b[0m\n",
      "\u001b[0;32m/mnt/bwpy/single/usr/lib/python2.7/urllib2.pyc\u001b[0m in \u001b[0;36mhttps_open\u001b[0;34m(self, req)\u001b[0m\n\u001b[1;32m   1239\u001b[0m         \u001b[0;32mdef\u001b[0m \u001b[0mhttps_open\u001b[0m\u001b[0;34m(\u001b[0m\u001b[0mself\u001b[0m\u001b[0;34m,\u001b[0m \u001b[0mreq\u001b[0m\u001b[0;34m)\u001b[0m\u001b[0;34m:\u001b[0m\u001b[0;34m\u001b[0m\u001b[0m\n\u001b[1;32m   1240\u001b[0m             return self.do_open(httplib.HTTPSConnection, req,\n\u001b[0;32m-> 1241\u001b[0;31m                 context=self._context)\n\u001b[0m\u001b[1;32m   1242\u001b[0m \u001b[0;34m\u001b[0m\u001b[0m\n\u001b[1;32m   1243\u001b[0m         \u001b[0mhttps_request\u001b[0m \u001b[0;34m=\u001b[0m \u001b[0mAbstractHTTPHandler\u001b[0m\u001b[0;34m.\u001b[0m\u001b[0mdo_request_\u001b[0m\u001b[0;34m\u001b[0m\u001b[0m\n",
      "\u001b[0;32m/mnt/bwpy/single/usr/lib/python2.7/urllib2.pyc\u001b[0m in \u001b[0;36mdo_open\u001b[0;34m(self, http_class, req, **http_conn_args)\u001b[0m\n\u001b[1;32m   1199\u001b[0m         \u001b[0;32melse\u001b[0m\u001b[0;34m:\u001b[0m\u001b[0;34m\u001b[0m\u001b[0m\n\u001b[1;32m   1200\u001b[0m             \u001b[0;32mtry\u001b[0m\u001b[0;34m:\u001b[0m\u001b[0;34m\u001b[0m\u001b[0m\n\u001b[0;32m-> 1201\u001b[0;31m                 \u001b[0mr\u001b[0m \u001b[0;34m=\u001b[0m \u001b[0mh\u001b[0m\u001b[0;34m.\u001b[0m\u001b[0mgetresponse\u001b[0m\u001b[0;34m(\u001b[0m\u001b[0mbuffering\u001b[0m\u001b[0;34m=\u001b[0m\u001b[0mTrue\u001b[0m\u001b[0;34m)\u001b[0m\u001b[0;34m\u001b[0m\u001b[0m\n\u001b[0m\u001b[1;32m   1202\u001b[0m             \u001b[0;32mexcept\u001b[0m \u001b[0mTypeError\u001b[0m\u001b[0;34m:\u001b[0m \u001b[0;31m# buffering kw not supported\u001b[0m\u001b[0;34m\u001b[0m\u001b[0m\n\u001b[1;32m   1203\u001b[0m                 \u001b[0mr\u001b[0m \u001b[0;34m=\u001b[0m \u001b[0mh\u001b[0m\u001b[0;34m.\u001b[0m\u001b[0mgetresponse\u001b[0m\u001b[0;34m(\u001b[0m\u001b[0;34m)\u001b[0m\u001b[0;34m\u001b[0m\u001b[0m\n",
      "\u001b[0;32m/mnt/bwpy/single/usr/lib/python2.7/httplib.pyc\u001b[0m in \u001b[0;36mgetresponse\u001b[0;34m(self, buffering)\u001b[0m\n\u001b[1;32m   1119\u001b[0m \u001b[0;34m\u001b[0m\u001b[0m\n\u001b[1;32m   1120\u001b[0m         \u001b[0;32mtry\u001b[0m\u001b[0;34m:\u001b[0m\u001b[0;34m\u001b[0m\u001b[0m\n\u001b[0;32m-> 1121\u001b[0;31m             \u001b[0mresponse\u001b[0m\u001b[0;34m.\u001b[0m\u001b[0mbegin\u001b[0m\u001b[0;34m(\u001b[0m\u001b[0;34m)\u001b[0m\u001b[0;34m\u001b[0m\u001b[0m\n\u001b[0m\u001b[1;32m   1122\u001b[0m             \u001b[0;32massert\u001b[0m \u001b[0mresponse\u001b[0m\u001b[0;34m.\u001b[0m\u001b[0mwill_close\u001b[0m \u001b[0;34m!=\u001b[0m \u001b[0m_UNKNOWN\u001b[0m\u001b[0;34m\u001b[0m\u001b[0m\n\u001b[1;32m   1123\u001b[0m             \u001b[0mself\u001b[0m\u001b[0;34m.\u001b[0m\u001b[0m__state\u001b[0m \u001b[0;34m=\u001b[0m \u001b[0m_CS_IDLE\u001b[0m\u001b[0;34m\u001b[0m\u001b[0m\n",
      "\u001b[0;32m/mnt/bwpy/single/usr/lib/python2.7/httplib.pyc\u001b[0m in \u001b[0;36mbegin\u001b[0;34m(self)\u001b[0m\n\u001b[1;32m    436\u001b[0m         \u001b[0;31m# read until we get a non-100 response\u001b[0m\u001b[0;34m\u001b[0m\u001b[0;34m\u001b[0m\u001b[0m\n\u001b[1;32m    437\u001b[0m         \u001b[0;32mwhile\u001b[0m \u001b[0mTrue\u001b[0m\u001b[0;34m:\u001b[0m\u001b[0;34m\u001b[0m\u001b[0m\n\u001b[0;32m--> 438\u001b[0;31m             \u001b[0mversion\u001b[0m\u001b[0;34m,\u001b[0m \u001b[0mstatus\u001b[0m\u001b[0;34m,\u001b[0m \u001b[0mreason\u001b[0m \u001b[0;34m=\u001b[0m \u001b[0mself\u001b[0m\u001b[0;34m.\u001b[0m\u001b[0m_read_status\u001b[0m\u001b[0;34m(\u001b[0m\u001b[0;34m)\u001b[0m\u001b[0;34m\u001b[0m\u001b[0m\n\u001b[0m\u001b[1;32m    439\u001b[0m             \u001b[0;32mif\u001b[0m \u001b[0mstatus\u001b[0m \u001b[0;34m!=\u001b[0m \u001b[0mCONTINUE\u001b[0m\u001b[0;34m:\u001b[0m\u001b[0;34m\u001b[0m\u001b[0m\n\u001b[1;32m    440\u001b[0m                 \u001b[0;32mbreak\u001b[0m\u001b[0;34m\u001b[0m\u001b[0m\n",
      "\u001b[0;32m/mnt/bwpy/single/usr/lib/python2.7/httplib.pyc\u001b[0m in \u001b[0;36m_read_status\u001b[0;34m(self)\u001b[0m\n\u001b[1;32m    392\u001b[0m     \u001b[0;32mdef\u001b[0m \u001b[0m_read_status\u001b[0m\u001b[0;34m(\u001b[0m\u001b[0mself\u001b[0m\u001b[0;34m)\u001b[0m\u001b[0;34m:\u001b[0m\u001b[0;34m\u001b[0m\u001b[0m\n\u001b[1;32m    393\u001b[0m         \u001b[0;31m# Initialize with Simple-Response defaults\u001b[0m\u001b[0;34m\u001b[0m\u001b[0;34m\u001b[0m\u001b[0m\n\u001b[0;32m--> 394\u001b[0;31m         \u001b[0mline\u001b[0m \u001b[0;34m=\u001b[0m \u001b[0mself\u001b[0m\u001b[0;34m.\u001b[0m\u001b[0mfp\u001b[0m\u001b[0;34m.\u001b[0m\u001b[0mreadline\u001b[0m\u001b[0;34m(\u001b[0m\u001b[0m_MAXLINE\u001b[0m \u001b[0;34m+\u001b[0m \u001b[0;36m1\u001b[0m\u001b[0;34m)\u001b[0m\u001b[0;34m\u001b[0m\u001b[0m\n\u001b[0m\u001b[1;32m    395\u001b[0m         \u001b[0;32mif\u001b[0m \u001b[0mlen\u001b[0m\u001b[0;34m(\u001b[0m\u001b[0mline\u001b[0m\u001b[0;34m)\u001b[0m \u001b[0;34m>\u001b[0m \u001b[0m_MAXLINE\u001b[0m\u001b[0;34m:\u001b[0m\u001b[0;34m\u001b[0m\u001b[0m\n\u001b[1;32m    396\u001b[0m             \u001b[0;32mraise\u001b[0m \u001b[0mLineTooLong\u001b[0m\u001b[0;34m(\u001b[0m\u001b[0;34m\"header line\"\u001b[0m\u001b[0;34m)\u001b[0m\u001b[0;34m\u001b[0m\u001b[0m\n",
      "\u001b[0;32m/mnt/bwpy/single/usr/lib/python2.7/socket.pyc\u001b[0m in \u001b[0;36mreadline\u001b[0;34m(self, size)\u001b[0m\n\u001b[1;32m    478\u001b[0m             \u001b[0;32mwhile\u001b[0m \u001b[0mTrue\u001b[0m\u001b[0;34m:\u001b[0m\u001b[0;34m\u001b[0m\u001b[0m\n\u001b[1;32m    479\u001b[0m                 \u001b[0;32mtry\u001b[0m\u001b[0;34m:\u001b[0m\u001b[0;34m\u001b[0m\u001b[0m\n\u001b[0;32m--> 480\u001b[0;31m                     \u001b[0mdata\u001b[0m \u001b[0;34m=\u001b[0m \u001b[0mself\u001b[0m\u001b[0;34m.\u001b[0m\u001b[0m_sock\u001b[0m\u001b[0;34m.\u001b[0m\u001b[0mrecv\u001b[0m\u001b[0;34m(\u001b[0m\u001b[0mself\u001b[0m\u001b[0;34m.\u001b[0m\u001b[0m_rbufsize\u001b[0m\u001b[0;34m)\u001b[0m\u001b[0;34m\u001b[0m\u001b[0m\n\u001b[0m\u001b[1;32m    481\u001b[0m                 \u001b[0;32mexcept\u001b[0m \u001b[0merror\u001b[0m\u001b[0;34m,\u001b[0m \u001b[0me\u001b[0m\u001b[0;34m:\u001b[0m\u001b[0;34m\u001b[0m\u001b[0m\n\u001b[1;32m    482\u001b[0m                     \u001b[0;32mif\u001b[0m \u001b[0me\u001b[0m\u001b[0;34m.\u001b[0m\u001b[0margs\u001b[0m\u001b[0;34m[\u001b[0m\u001b[0;36m0\u001b[0m\u001b[0;34m]\u001b[0m \u001b[0;34m==\u001b[0m \u001b[0mEINTR\u001b[0m\u001b[0;34m:\u001b[0m\u001b[0;34m\u001b[0m\u001b[0m\n",
      "\u001b[0;32m/mnt/bwpy/single/usr/lib/python2.7/ssl.pyc\u001b[0m in \u001b[0;36mrecv\u001b[0;34m(self, buflen, flags)\u001b[0m\n\u001b[1;32m    764\u001b[0m                     \u001b[0;34m\"non-zero flags not allowed in calls to recv() on %s\"\u001b[0m \u001b[0;34m%\u001b[0m\u001b[0;34m\u001b[0m\u001b[0m\n\u001b[1;32m    765\u001b[0m                     self.__class__)\n\u001b[0;32m--> 766\u001b[0;31m             \u001b[0;32mreturn\u001b[0m \u001b[0mself\u001b[0m\u001b[0;34m.\u001b[0m\u001b[0mread\u001b[0m\u001b[0;34m(\u001b[0m\u001b[0mbuflen\u001b[0m\u001b[0;34m)\u001b[0m\u001b[0;34m\u001b[0m\u001b[0m\n\u001b[0m\u001b[1;32m    767\u001b[0m         \u001b[0;32melse\u001b[0m\u001b[0;34m:\u001b[0m\u001b[0;34m\u001b[0m\u001b[0m\n\u001b[1;32m    768\u001b[0m             \u001b[0;32mreturn\u001b[0m \u001b[0mself\u001b[0m\u001b[0;34m.\u001b[0m\u001b[0m_sock\u001b[0m\u001b[0;34m.\u001b[0m\u001b[0mrecv\u001b[0m\u001b[0;34m(\u001b[0m\u001b[0mbuflen\u001b[0m\u001b[0;34m,\u001b[0m \u001b[0mflags\u001b[0m\u001b[0;34m)\u001b[0m\u001b[0;34m\u001b[0m\u001b[0m\n",
      "\u001b[0;32m/mnt/bwpy/single/usr/lib/python2.7/ssl.pyc\u001b[0m in \u001b[0;36mread\u001b[0;34m(self, len, buffer)\u001b[0m\n\u001b[1;32m    651\u001b[0m                 \u001b[0mv\u001b[0m \u001b[0;34m=\u001b[0m \u001b[0mself\u001b[0m\u001b[0;34m.\u001b[0m\u001b[0m_sslobj\u001b[0m\u001b[0;34m.\u001b[0m\u001b[0mread\u001b[0m\u001b[0;34m(\u001b[0m\u001b[0mlen\u001b[0m\u001b[0;34m,\u001b[0m \u001b[0mbuffer\u001b[0m\u001b[0;34m)\u001b[0m\u001b[0;34m\u001b[0m\u001b[0m\n\u001b[1;32m    652\u001b[0m             \u001b[0;32melse\u001b[0m\u001b[0;34m:\u001b[0m\u001b[0;34m\u001b[0m\u001b[0m\n\u001b[0;32m--> 653\u001b[0;31m                 \u001b[0mv\u001b[0m \u001b[0;34m=\u001b[0m \u001b[0mself\u001b[0m\u001b[0;34m.\u001b[0m\u001b[0m_sslobj\u001b[0m\u001b[0;34m.\u001b[0m\u001b[0mread\u001b[0m\u001b[0;34m(\u001b[0m\u001b[0mlen\u001b[0m\u001b[0;34m)\u001b[0m\u001b[0;34m\u001b[0m\u001b[0m\n\u001b[0m\u001b[1;32m    654\u001b[0m             \u001b[0;32mreturn\u001b[0m \u001b[0mv\u001b[0m\u001b[0;34m\u001b[0m\u001b[0m\n\u001b[1;32m    655\u001b[0m         \u001b[0;32mexcept\u001b[0m \u001b[0mSSLError\u001b[0m \u001b[0;32mas\u001b[0m \u001b[0mx\u001b[0m\u001b[0;34m:\u001b[0m\u001b[0;34m\u001b[0m\u001b[0m\n",
      "\u001b[0;31mKeyboardInterrupt\u001b[0m: "
     ]
    }
   ],
   "source": [
    "\n",
    "def main(iyr, iday):\n",
    "    iday = str(iday).zfill(3)\n",
    "    \n",
    "    # Set up download folder (dst_parent_folder)\n",
    "    dst_parent_folder = \"/u/sciteam/smzyz/scratch/data/MODIS/MOD35/{}\".format(iyr)\n",
    "    dst_daily_folder = os.path.join(dst_parent_folder, iday)\n",
    "    try:\n",
    "        print \">> log: {}\".format(dst_daily_folder)\n",
    "        os.mkdir(dst_daily_folder)\n",
    "    except OSError as err:\n",
    "        pass\n",
    "    \n",
    "    \n",
    "    # Set up server folder (src_parent_folder)\n",
    "    src_parent_folder = 'https://ladsweb.modaps.eosdis.nasa.gov/archive/allData/61/MOD35_L2/{}'.format(iyr)\n",
    "    src_daily_folder = os.path.join(src_parent_folder, iday)\n",
    "    \n",
    "    \n",
    "    # 1) Download daily .csv file from (src_parent_folder) to (dst_parent_folder)\n",
    "    #    e.g., src: https://ladsweb.modaps.eosdis.nasa.gov/archive/allData/61/MOD35_L2/2000/300.csv\n",
    "    #          dst: /u/sciteam/smzyz/scratch/data/MODIS/MOD35/2000/300.csv\n",
    "    src_csv_file = \"{}/{}.csv\".format(src_parent_folder, iday)\n",
    "    dst_csv_file = \"{}/{}.csv\".format(dst_parent_folder, iday)\n",
    "    with open(dst_csv_file, 'w+b') as out:\n",
    "        url_retrieve(src_csv_file, out)\n",
    "    \n",
    "    \n",
    "    # 2) Read csv file and generate a download file list by cross-referencing existed MOD35 files\n",
    "    files_server = [ f['name'] for f in csv.DictReader(open(dst_csv_file), skipinitialspace=True) ]\n",
    "#     sizes_server = [ f['size'] for f in csv.DictReader(open(dst_csv_file), skipinitialspace=True) ]\n",
    "    files_local = os.listdir(dst_daily_folder)\n",
    "#     sizes_local = [os.path.getsize(os.path.join(dst_daily_folder, ifile)) for ifile in files_local]\n",
    "    files_new = [ifile for ifile in files_server if ifile not in files_local]\n",
    "\n",
    "    if len(files_new) == 0:\n",
    "        return\n",
    "    else:\n",
    "        src_file_list = [\"{}/{}\".format(src_daily_folder, f) for f in files_new]\n",
    "        dst_file_list = [\"{}/{}\".format(dst_daily_folder, f) for f in files_new]\n",
    "        \n",
    "    \n",
    "        # 3) Download\n",
    "        print \">> Download: {}: {} files\".format(dst_daily_folder, len(files_new))\n",
    "        for i in range(len(src_file_list)):\n",
    "            isrc = src_file_list[i]\n",
    "            idst = dst_file_list[i]\n",
    "            with open(idst, 'w+b') as out:\n",
    "                url_retrieve(isrc, out)\n",
    "            \n",
    "    \n",
    "for iday in range(54, 367):\n",
    "    main(2000, iday)"
   ]
  },
  {
   "cell_type": "code",
   "execution_count": null,
   "metadata": {
    "scrolled": true
   },
   "outputs": [],
   "source": []
  },
  {
   "cell_type": "code",
   "execution_count": 97,
   "metadata": {},
   "outputs": [],
   "source": [
    "from my_module.data.modis import MOD35_retrieve_cloud_mask\n",
    "\n",
    "flag_cloud_mask = MOD35_retrieve_cloud_mask(\"/u/sciteam/smzyz/scratch/data/MODIS/MOD35/2006/064/MOD35_L2.A2006064.0000.061.2017261111758.hdf\")"
   ]
  },
  {
   "cell_type": "code",
   "execution_count": 99,
   "metadata": {},
   "outputs": [
    {
     "data": {
      "text/plain": [
       "(2030, 1354, 7)"
      ]
     },
     "execution_count": 99,
     "metadata": {},
     "output_type": "execute_result"
    }
   ],
   "source": [
    "flag_cloud_mask.shape"
   ]
  }
 ],
 "metadata": {
  "kernelspec": {
   "display_name": "Python 2",
   "language": "python2.7",
   "name": "python2"
  },
  "language_info": {
   "codemirror_mode": {
    "name": "ipython",
    "version": 2
   },
   "file_extension": ".py",
   "mimetype": "text/x-python",
   "name": "python",
   "nbconvert_exporter": "python",
   "pygments_lexer": "ipython2",
   "version": "2.7.14"
  }
 },
 "nbformat": 4,
 "nbformat_minor": 2
}
